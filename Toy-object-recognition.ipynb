{
 "cells": [
  {
   "cell_type": "markdown",
   "id": "385807c6",
   "metadata": {},
   "source": [
    "# Toy Object Recognition"
   ]
  },
  {
   "cell_type": "code",
   "execution_count": 1,
   "id": "052ccd12",
   "metadata": {},
   "outputs": [],
   "source": [
    "import numpy as np\n",
    "import matplotlib.pyplot as plt"
   ]
  },
  {
   "cell_type": "code",
   "execution_count": 10,
   "id": "7a3985bf",
   "metadata": {},
   "outputs": [
    {
     "name": "stdout",
     "output_type": "stream",
     "text": [
      "··········\n",
      "··········\n",
      "··········\n",
      "··········\n",
      "(5, 4)\n"
     ]
    }
   ],
   "source": [
    "class Image:\n",
    "\n",
    "    display_chars = np.array([u'\\u00B7\\u00B7', u'\\u2588\\u2589'])\n",
    "\n",
    "    def __init__(self, data=None, size=None):\n",
    "        if data is None:\n",
    "            self._data = np.zeros(tuple(reversed(size)), dtype='int8')\n",
    "        else:\n",
    "            self._data = np.array(data).astype('int8')\n",
    "\n",
    "    @property\n",
    "    def size(self):\n",
    "        return tuple(reversed(self._data.shape))\n",
    "\n",
    "    @property\n",
    "    def data(self):\n",
    "        return self._data\n",
    "\n",
    "    @data.setter\n",
    "    def data(self, value):\n",
    "        self._data = np.array(value).astype('int8')\n",
    "        \n",
    "    def __getitem__(self, index):\n",
    "        return self._data[tuple(reversed(index))]\n",
    "\n",
    "    def __setitem__(self, index, value):\n",
    "        self._data[tuple(reversed(index))] = value\n",
    "\n",
    "    def show(self):\n",
    "        for i in range(self.size[1]):\n",
    "            print(''.join(c for c in self.display_chars[self.data[i, :]]))\n",
    "\n",
    "\n",
    "im_size = (5, 4)\n",
    "\n",
    "assert(Image(size=im_size).size == im_size)\n",
    "assert(np.all(Image(size=im_size).data == 0))\n",
    "\n",
    "Image(size=im_size).show()\n",
    "print(Image(size=im_size).size)"
   ]
  },
  {
   "cell_type": "code",
   "execution_count": 12,
   "id": "fe837c9d",
   "metadata": {},
   "outputs": [
    {
     "name": "stdout",
     "output_type": "stream",
     "text": [
      "█▉█▉··█▉\n",
      "··█▉█▉··\n",
      "█▉█▉··█▉\n"
     ]
    },
    {
     "data": {
      "text/plain": [
       "array([[1, 1, 0, 1],\n",
       "       [0, 1, 1, 0],\n",
       "       [1, 1, 0, 1]], dtype=int8)"
      ]
     },
     "execution_count": 12,
     "metadata": {},
     "output_type": "execute_result"
    }
   ],
   "source": [
    "np.random.seed(10)\n",
    "data = np.random.randint(2, size=12).reshape(3, 4)\n",
    "im = Image(data=data)\n",
    "im.show()\n",
    "im.data"
   ]
  },
  {
   "cell_type": "code",
   "execution_count": 13,
   "id": "91be23cc",
   "metadata": {},
   "outputs": [
    {
     "data": {
      "text/plain": [
       "1"
      ]
     },
     "execution_count": 13,
     "metadata": {},
     "output_type": "execute_result"
    }
   ],
   "source": [
    "# Note: indexing is (x, y) from top left (not row, col as for matrices)\n",
    "im[1, 1]"
   ]
  },
  {
   "cell_type": "code",
   "execution_count": 16,
   "id": "3f48ac5d",
   "metadata": {},
   "outputs": [
    {
     "data": {
      "text/plain": [
       "array([0, 1, 1, 0], dtype=int8)"
      ]
     },
     "execution_count": 16,
     "metadata": {},
     "output_type": "execute_result"
    }
   ],
   "source": [
    "im[:, 1]"
   ]
  },
  {
   "cell_type": "code",
   "execution_count": 17,
   "id": "60292826",
   "metadata": {},
   "outputs": [
    {
     "name": "stdout",
     "output_type": "stream",
     "text": [
      "█▉█▉█▉█▉\n",
      "··█▉█▉··\n",
      "█▉█▉█▉█▉\n"
     ]
    }
   ],
   "source": [
    "im[2, :] = 1\n",
    "im.show()"
   ]
  },
  {
   "cell_type": "code",
   "execution_count": 8,
   "id": "bf12e58a",
   "metadata": {},
   "outputs": [],
   "source": [
    "im_size = (5, 5)\n",
    "im = Image(size=im_size)\n",
    "#im[1:3, 1:3] = 1\n",
    "#im.show()\n"
   ]
  },
  {
   "cell_type": "code",
   "execution_count": 9,
   "id": "034e6877",
   "metadata": {},
   "outputs": [
    {
     "ename": "NameError",
     "evalue": "name 'make_blank_image' is not defined",
     "output_type": "error",
     "traceback": [
      "\u001b[0;31m---------------------------------------------------------------------------\u001b[0m",
      "\u001b[0;31mNameError\u001b[0m                                 Traceback (most recent call last)",
      "\u001b[0;32m<ipython-input-9-0c9b29a9f6a5>\u001b[0m in \u001b[0;36m<module>\u001b[0;34m\u001b[0m\n\u001b[1;32m     13\u001b[0m \u001b[0;32massert\u001b[0m\u001b[0;34m(\u001b[0m\u001b[0mvline\u001b[0m\u001b[0;34m(\u001b[0m\u001b[0;34m(\u001b[0m\u001b[0;36m3\u001b[0m\u001b[0;34m,\u001b[0m \u001b[0;36m0\u001b[0m\u001b[0;34m)\u001b[0m\u001b[0;34m,\u001b[0m \u001b[0;36m5\u001b[0m\u001b[0;34m)\u001b[0m \u001b[0;34m==\u001b[0m \u001b[0;34m[\u001b[0m\u001b[0;34m(\u001b[0m\u001b[0;36m3\u001b[0m\u001b[0;34m,\u001b[0m \u001b[0;36m0\u001b[0m\u001b[0;34m)\u001b[0m\u001b[0;34m,\u001b[0m \u001b[0;34m(\u001b[0m\u001b[0;36m3\u001b[0m\u001b[0;34m,\u001b[0m \u001b[0;36m1\u001b[0m\u001b[0;34m)\u001b[0m\u001b[0;34m,\u001b[0m \u001b[0;34m(\u001b[0m\u001b[0;36m3\u001b[0m\u001b[0;34m,\u001b[0m \u001b[0;36m2\u001b[0m\u001b[0;34m)\u001b[0m\u001b[0;34m,\u001b[0m \u001b[0;34m(\u001b[0m\u001b[0;36m3\u001b[0m\u001b[0;34m,\u001b[0m \u001b[0;36m3\u001b[0m\u001b[0;34m)\u001b[0m\u001b[0;34m,\u001b[0m \u001b[0;34m(\u001b[0m\u001b[0;36m3\u001b[0m\u001b[0;34m,\u001b[0m \u001b[0;36m4\u001b[0m\u001b[0;34m)\u001b[0m\u001b[0;34m]\u001b[0m\u001b[0;34m)\u001b[0m\u001b[0;34m\u001b[0m\u001b[0;34m\u001b[0m\u001b[0m\n\u001b[1;32m     14\u001b[0m \u001b[0;34m\u001b[0m\u001b[0m\n\u001b[0;32m---> 15\u001b[0;31m \u001b[0mdata\u001b[0m \u001b[0;34m=\u001b[0m \u001b[0mmake_blank_image\u001b[0m\u001b[0;34m(\u001b[0m\u001b[0mgrid_size\u001b[0m\u001b[0;34m)\u001b[0m\u001b[0;34m\u001b[0m\u001b[0;34m\u001b[0m\u001b[0m\n\u001b[0m\u001b[1;32m     16\u001b[0m \u001b[0;31m#data[1:3, 3)] = 1\u001b[0m\u001b[0;34m\u001b[0m\u001b[0;34m\u001b[0m\u001b[0;34m\u001b[0m\u001b[0m\n\u001b[1;32m     17\u001b[0m \u001b[0mshow_image\u001b[0m\u001b[0;34m(\u001b[0m\u001b[0mdata\u001b[0m\u001b[0;34m)\u001b[0m\u001b[0;34m\u001b[0m\u001b[0;34m\u001b[0m\u001b[0m\n",
      "\u001b[0;31mNameError\u001b[0m: name 'make_blank_image' is not defined"
     ]
    }
   ],
   "source": [
    "def hline(pt, length):\n",
    "    return [(pt[0]+i, pt[1]) for i in range(length)]\n",
    "\n",
    "def vline(pt, length):\n",
    "    return [(pt[0], pt[1]+i) for i in range(length)]\n",
    "\n",
    "assert(hline((1, 2), 1) == [(1, 2)])\n",
    "assert(vline((2, 1), 1) == [(2, 1)])\n",
    "assert(hline((0, 0), 2) == [(0, 0), (1, 0)])\n",
    "assert(vline((0, 0), 2) == [(0, 0), (0, 1)])\n",
    "\n",
    "assert(hline((0, 3), 5) == [(0, 3), (1, 3), (2, 3), (3, 3), (4, 3)])\n",
    "assert(vline((3, 0), 5) == [(3, 0), (3, 1), (3, 2), (3, 3), (3, 4)])\n",
    "\n",
    "data = make_blank_image(grid_size)\n",
    "#data[1:3, 3)] = 1\n",
    "show_image(data)"
   ]
  },
  {
   "cell_type": "code",
   "execution_count": null,
   "id": "95d6eac0",
   "metadata": {},
   "outputs": [],
   "source": [
    "list(zip(*hline((1, 1), 3)))"
   ]
  },
  {
   "cell_type": "code",
   "execution_count": null,
   "id": "2947d12b",
   "metadata": {},
   "outputs": [],
   "source": []
  },
  {
   "cell_type": "code",
   "execution_count": null,
   "id": "5f6a7b8b",
   "metadata": {},
   "outputs": [],
   "source": [
    "data = make_blank_image(grid_size)\n",
    "pts = np.array(hline((1, 1), 3))\n",
    "data[tuple(zip(*hline((1, 1), 3)))] = 1\n",
    "show_image(data)"
   ]
  },
  {
   "cell_type": "code",
   "execution_count": null,
   "id": "5c25697f",
   "metadata": {},
   "outputs": [],
   "source": [
    "def table(p1, p2, height):\n",
    "    width = p2[0] - p1[0]\n",
    "    assert(width > 2)\n",
    "    assert(height > 1)\n",
    "    return vline(p1, height) + vline(p2, height) + hline((p1[0] + 1, p2[1]), width - 2)\n",
    "\n",
    "t1 = table((1, 1), (4, 1), 3)"
   ]
  },
  {
   "cell_type": "code",
   "execution_count": null,
   "id": "d95e3a48",
   "metadata": {},
   "outputs": [],
   "source": []
  }
 ],
 "metadata": {
  "kernelspec": {
   "display_name": "Python [conda env:torch]",
   "language": "python",
   "name": "conda-env-torch-py"
  },
  "language_info": {
   "codemirror_mode": {
    "name": "ipython",
    "version": 3
   },
   "file_extension": ".py",
   "mimetype": "text/x-python",
   "name": "python",
   "nbconvert_exporter": "python",
   "pygments_lexer": "ipython3",
   "version": "3.6.13"
  }
 },
 "nbformat": 4,
 "nbformat_minor": 5
}
