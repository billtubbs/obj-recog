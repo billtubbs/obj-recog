{
 "cells": [
  {
   "cell_type": "markdown",
   "id": "91ec0340",
   "metadata": {},
   "source": [
    "# Toy Object Recognition"
   ]
  },
  {
   "cell_type": "code",
   "execution_count": 1,
   "id": "9b09980a",
   "metadata": {},
   "outputs": [],
   "source": [
    "from itertools import chain\n",
    "import numpy as np\n",
    "import matplotlib.pyplot as plt\n",
    "\n",
    "# Class for storing and viewing images\n",
    "from images import Image"
   ]
  },
  {
   "cell_type": "markdown",
   "id": "d2586090",
   "metadata": {},
   "source": [
    "## Class for storing and viewing images"
   ]
  },
  {
   "cell_type": "code",
   "execution_count": 2,
   "id": "68ae08c4",
   "metadata": {},
   "outputs": [
    {
     "name": "stdout",
     "output_type": "stream",
     "text": [
      "··········\n",
      "··········\n",
      "··········\n",
      "··········\n",
      "(5, 4)\n"
     ]
    }
   ],
   "source": [
    "im_size = (5, 4)\n",
    "\n",
    "assert(Image(size=im_size).size == im_size)\n",
    "assert(np.all(Image(size=im_size).data == 0))\n",
    "\n",
    "Image(size=im_size).show()\n",
    "print(Image(size=im_size).size)"
   ]
  },
  {
   "cell_type": "code",
   "execution_count": 3,
   "id": "85b04c08",
   "metadata": {},
   "outputs": [
    {
     "name": "stdout",
     "output_type": "stream",
     "text": [
      "█▉█▉··█▉\n",
      "··█▉█▉··\n",
      "█▉█▉··█▉\n"
     ]
    },
    {
     "data": {
      "text/plain": [
       "array([[1, 1, 0, 1],\n",
       "       [0, 1, 1, 0],\n",
       "       [1, 1, 0, 1]], dtype=int8)"
      ]
     },
     "execution_count": 3,
     "metadata": {},
     "output_type": "execute_result"
    }
   ],
   "source": [
    "np.random.seed(10)\n",
    "data = np.random.randint(2, size=12).reshape(3, 4)\n",
    "im = Image(data=data)\n",
    "im.show()\n",
    "im.data"
   ]
  },
  {
   "cell_type": "code",
   "execution_count": 4,
   "id": "8cfc83ee",
   "metadata": {},
   "outputs": [
    {
     "data": {
      "text/plain": [
       "1"
      ]
     },
     "execution_count": 4,
     "metadata": {},
     "output_type": "execute_result"
    }
   ],
   "source": [
    "# Note: indexing is (x, y) from top left (not row, col as for matrices)\n",
    "im[1, 1]"
   ]
  },
  {
   "cell_type": "code",
   "execution_count": 5,
   "id": "3d89fd9f",
   "metadata": {},
   "outputs": [
    {
     "data": {
      "text/plain": [
       "array([0, 1, 1, 0], dtype=int8)"
      ]
     },
     "execution_count": 5,
     "metadata": {},
     "output_type": "execute_result"
    }
   ],
   "source": [
    "im[:, 1]"
   ]
  },
  {
   "cell_type": "code",
   "execution_count": 6,
   "id": "7ef18bc4",
   "metadata": {},
   "outputs": [
    {
     "name": "stdout",
     "output_type": "stream",
     "text": [
      "█▉█▉█▉█▉\n",
      "··█▉█▉··\n",
      "█▉█▉█▉█▉\n"
     ]
    }
   ],
   "source": [
    "im[2, :] = 1\n",
    "im.show()"
   ]
  },
  {
   "cell_type": "code",
   "execution_count": 7,
   "id": "4e279faf",
   "metadata": {},
   "outputs": [],
   "source": [
    "im_size = (5, 5)\n",
    "im = Image(size=im_size)\n",
    "#im[1:3, 1:3] = 1\n",
    "#im.show()\n"
   ]
  },
  {
   "cell_type": "markdown",
   "id": "3bd3e98a",
   "metadata": {},
   "source": [
    "## Functions to generate recognizable images"
   ]
  },
  {
   "cell_type": "code",
   "execution_count": 8,
   "id": "b942069c",
   "metadata": {},
   "outputs": [
    {
     "data": {
      "text/plain": [
       "((1, 2), (2, 2))"
      ]
     },
     "execution_count": 8,
     "metadata": {},
     "output_type": "execute_result"
    }
   ],
   "source": [
    "def hline(p1, p2):\n",
    "    w = p2[0] - p1[0] + 1\n",
    "    return (tuple(range(p1[0], p1[0] + w)), (p1[1],) * w)\n",
    "\n",
    "def vline(p1, p2):\n",
    "    h = p2[1] - p1[1] + 1\n",
    "    return ((p1[0],) * h, tuple(range(p1[1], p1[1] + h)))\n",
    "\n",
    "hline((1, 2), (2, 2))"
   ]
  },
  {
   "cell_type": "code",
   "execution_count": 9,
   "id": "2359e6a0",
   "metadata": {},
   "outputs": [
    {
     "name": "stdout",
     "output_type": "stream",
     "text": [
      "····█▉····\n",
      "····█▉····\n",
      "█▉█▉█▉█▉█▉\n",
      "····█▉····\n",
      "····█▉····\n"
     ]
    }
   ],
   "source": [
    "assert(hline((1, 2), (1, 2)) == ((1,), (2,)))\n",
    "assert(vline((2, 1), (2, 1)) == ((2,), (1,)))\n",
    "assert(hline((0, 0), (1, 0)) == ((0, 1), (0, 0)))\n",
    "assert(vline((0, 0), (0, 1)) == ((0, 0), (0, 1)))\n",
    "\n",
    "assert(hline((0, 3), (4, 3)) == ((0, 1, 2, 3, 4), (3, 3, 3, 3, 3)))\n",
    "assert(vline((3, 0), (3, 4)) == ((3, 3, 3, 3, 3), (0, 1, 2, 3, 4)))\n",
    "\n",
    "im_size = (5, 5)\n",
    "im = Image(size=im_size)\n",
    "im[hline((0, 2), (4, 2))] = 1\n",
    "im[vline((2, 0), (2, 4))] = 1\n",
    "im.show()"
   ]
  },
  {
   "cell_type": "code",
   "execution_count": 10,
   "id": "f0ef6ca8",
   "metadata": {},
   "outputs": [
    {
     "name": "stdout",
     "output_type": "stream",
     "text": [
      "··········\n",
      "····█▉····\n",
      "··█▉█▉█▉··\n",
      "····█▉····\n",
      "··········\n",
      "····█▉····\n",
      "█▉█▉█▉█▉··\n",
      "····█▉····\n",
      "····█▉····\n",
      "··········\n"
     ]
    }
   ],
   "source": [
    "def cross(p1, p2):\n",
    "    w = p2[0] - p1[0] + 1\n",
    "    h = p2[1] - p1[1] + 1\n",
    "    assert(w > 2)\n",
    "    assert(h > 2)\n",
    "    c = vline((p1[0] + w // 2, p1[1]), p2), hline((p1[0], p2[1] - h // 2), p2)\n",
    "    return tuple(tuple(chain.from_iterable(a)) for a in zip(*c))\n",
    "\n",
    "c1 = cross((1, 1), (3, 3))\n",
    "assert(c1 == ((2, 2, 2, 1, 2, 3), (1, 2, 3, 2, 2, 2)))\n",
    "c2 = cross((0, 0), (3, 3))\n",
    "assert(c2 == ((2, 2, 2, 2, 0, 1, 2, 3), (0, 1, 2, 3, 1, 1, 1, 1)))\n",
    "\n",
    "im_size = (5, 5)\n",
    "\n",
    "im = Image(size=im_size)\n",
    "im[c1] = 1\n",
    "im.show()\n",
    "\n",
    "im = Image(size=im_size)\n",
    "im[c2] = 1\n",
    "im.show()"
   ]
  },
  {
   "cell_type": "code",
   "execution_count": 11,
   "id": "5e1ae265",
   "metadata": {},
   "outputs": [
    {
     "name": "stdout",
     "output_type": "stream",
     "text": [
      "··········\n",
      "··█▉█▉█▉█▉\n",
      "··█▉····█▉\n",
      "··█▉····█▉\n",
      "··········\n"
     ]
    }
   ],
   "source": [
    "def table(p1, p2):\n",
    "    w = p2[0] - p1[0] + 1\n",
    "    h = p2[1] - p1[1] + 1\n",
    "    assert(w > 2)\n",
    "    assert(h > 1)\n",
    "    t = (\n",
    "        vline(p1, p2), \n",
    "        vline((p2[0], p1[1]), p2), \n",
    "        hline((p1[0] + 1, p1[1]), (p2[0] - 1, p1[1]))\n",
    "    )\n",
    "    return tuple(tuple(chain.from_iterable(a)) for a in zip(*t))\n",
    "\n",
    "t1 = table((1, 1), (4, 3))\n",
    "assert(t1 == ((1, 1, 1, 4, 4, 4, 2, 3), (1, 2, 3, 1, 2, 3, 1, 1)))\n",
    "t2 = table((0, 0), (2, 2))\n",
    "assert(t2 == ((0, 0, 0, 2, 2, 2, 1), (0, 1, 2, 0, 1, 2, 0)))\n",
    "\n",
    "im_size = (5, 5)\n",
    "im = Image(size=im_size)\n",
    "im[t1] = 1\n",
    "im.show()"
   ]
  },
  {
   "cell_type": "code",
   "execution_count": 12,
   "id": "9193467f",
   "metadata": {},
   "outputs": [
    {
     "name": "stdout",
     "output_type": "stream",
     "text": [
      "··········\n",
      "··········\n",
      "█▉█▉█▉█▉··\n",
      "█▉····█▉··\n",
      "█▉█▉█▉█▉··\n"
     ]
    }
   ],
   "source": [
    "def box(p1, p2):\n",
    "    w = p2[0] - p1[0] + 1\n",
    "    h = p2[1] - p1[1] + 1\n",
    "    assert(w > 2)\n",
    "    assert(h > 2)\n",
    "    t = (\n",
    "        vline(p1, p2), \n",
    "        vline((p2[0], p1[1]), p2), \n",
    "        hline((p1[0] + 1, p1[1]), (p2[0] - 1, p1[1])),\n",
    "        hline((p1[0] + 1, p2[1]), (p2[0] - 1, p2[1]))\n",
    "    )\n",
    "    return tuple(tuple(chain.from_iterable(a)) for a in zip(*t))\n",
    "\n",
    "b1 = box((0, 2), (3, 4))\n",
    "assert(b1 == ((0, 0, 0, 3, 3, 3, 1, 2, 1, 2), (2, 3, 4, 2, 3, 4, 2, 2, 4, 4)))\n",
    "b2 = box((2, 2), (4, 4))\n",
    "assert(b2 == ((2, 2, 2, 4, 4, 4, 3, 3), (2, 3, 4, 2, 3, 4, 2, 4)))\n",
    "\n",
    "im_size = (5, 5)\n",
    "im = Image(size=im_size)\n",
    "im[b1] = 1\n",
    "im.show()"
   ]
  },
  {
   "cell_type": "code",
   "execution_count": 13,
   "id": "941d1920",
   "metadata": {},
   "outputs": [
    {
     "name": "stdout",
     "output_type": "stream",
     "text": [
      "··█▉······\n",
      "··█▉······\n",
      "··█▉█▉█▉█▉\n",
      "··█▉······\n",
      "··█▉······\n"
     ]
    }
   ],
   "source": [
    "def rtee(p1, p2):\n",
    "    w = p2[0] - p1[0] + 1\n",
    "    h = p2[1] - p1[1] + 1\n",
    "    assert(w > 2)\n",
    "    assert(h > 2)\n",
    "    t = vline(p1, p2), hline((p1[0] + 1, p1[1] + h // 2), p2)\n",
    "    return tuple(tuple(chain.from_iterable(a)) for a in zip(*t))\n",
    "\n",
    "rt1 = rtee((1, 0), (4, 4))\n",
    "\n",
    "im_size = (5, 5)\n",
    "im = Image(size=im_size)\n",
    "im[rt1] = 1\n",
    "im.show()"
   ]
  },
  {
   "cell_type": "code",
   "execution_count": 14,
   "id": "4d6764f7",
   "metadata": {},
   "outputs": [
    {
     "name": "stdout",
     "output_type": "stream",
     "text": [
      "········█▉\n",
      "········█▉\n",
      "··█▉█▉█▉█▉\n",
      "········█▉\n",
      "········█▉\n"
     ]
    }
   ],
   "source": [
    "def ltee(p1, p2):\n",
    "    w = p2[0] - p1[0] + 1\n",
    "    h = p2[1] - p1[1] + 1\n",
    "    assert(w > 2)\n",
    "    assert(h > 2)\n",
    "    t = vline((p2[0], p1[1]), p2), hline((p1[0], p1[1] + h // 2), p2)\n",
    "    return tuple(tuple(chain.from_iterable(a)) for a in zip(*t))\n",
    "\n",
    "lt1 = ltee((1, 0), (4, 4))\n",
    "\n",
    "im_size = (5, 5)\n",
    "im = Image(size=im_size)\n",
    "im[lt1] = 1\n",
    "im.show()"
   ]
  },
  {
   "cell_type": "code",
   "execution_count": 15,
   "id": "45922440",
   "metadata": {},
   "outputs": [
    {
     "name": "stdout",
     "output_type": "stream",
     "text": [
      "··········\n",
      "█▉········\n",
      "█▉········\n",
      "█▉█▉█▉█▉··\n",
      "█▉····█▉··\n"
     ]
    }
   ],
   "source": [
    "def rchair(p1, p2):\n",
    "    w = p2[0] - p1[0] + 1\n",
    "    h = p2[1] - p1[1] + 1\n",
    "    assert(w > 2)\n",
    "    assert(h > 2)\n",
    "    c = rtee(p1, p2), vline((p2[0], p1[1] + h // 2 + 1), p2)\n",
    "    return tuple(tuple(chain.from_iterable(a)) for a in zip(*c))\n",
    "\n",
    "rc1 = rchair((0, 1), (3, 4))\n",
    "assert(rc1 == ((0, 0, 0, 0, 1, 2, 3, 3), (1, 2, 3, 4, 3, 3, 3, 4)))\n",
    "\n",
    "im_size = (5, 5)\n",
    "im = Image(size=im_size)\n",
    "im[rc1] = 1\n",
    "im.show()"
   ]
  },
  {
   "cell_type": "code",
   "execution_count": 16,
   "id": "890adb3d",
   "metadata": {},
   "outputs": [
    {
     "name": "stdout",
     "output_type": "stream",
     "text": [
      "········█▉\n",
      "········█▉\n",
      "··█▉█▉█▉█▉\n",
      "··█▉····█▉\n",
      "··█▉····█▉\n"
     ]
    }
   ],
   "source": [
    "def lchair(p1, p2):\n",
    "    w = p2[0] - p1[0] + 1\n",
    "    h = p2[1] - p1[1] + 1\n",
    "    assert(w > 2)\n",
    "    assert(h > 2)\n",
    "    c = ltee(p1, p2), vline((p1[0], p1[1] + h // 2 + 1), p2)\n",
    "    return tuple(tuple(chain.from_iterable(a)) for a in zip(*c))\n",
    "\n",
    "lc1 = lchair((1, 0), (4, 4))\n",
    "assert(lc1 == ((4, 4, 4, 4, 4, 1, 2, 3, 4, 1, 1), (0, 1, 2, 3, 4, 2, 2, 2, 2, 3, 4)))\n",
    "\n",
    "im_size = (5, 5)\n",
    "im = Image(size=im_size)\n",
    "im[lc1] = 1\n",
    "im.show()"
   ]
  },
  {
   "cell_type": "code",
   "execution_count": 17,
   "id": "5bb4a780",
   "metadata": {},
   "outputs": [
    {
     "name": "stdout",
     "output_type": "stream",
     "text": [
      "··█▉····█▉\n",
      "··█▉█▉█▉█▉\n",
      "··█▉····█▉\n",
      "··········\n",
      "··········\n"
     ]
    }
   ],
   "source": [
    "def h_shape(p1, p2):\n",
    "    w = p2[0] - p1[0] + 1\n",
    "    h = p2[1] - p1[1] + 1\n",
    "    assert(w > 2)\n",
    "    assert(h > 2)\n",
    "    c = ltee(p1, p2), vline(p1, p2)\n",
    "    return tuple(tuple(chain.from_iterable(a)) for a in zip(*c))\n",
    "\n",
    "hs1 = h_shape((1, 0), (4, 2))\n",
    "assert(hs1 == ((4, 4, 4, 1, 2, 3, 4, 1, 1, 1), (0, 1, 2, 1, 1, 1, 1, 0, 1, 2)))\n",
    "\n",
    "im_size = (5, 5)\n",
    "im = Image(size=im_size)\n",
    "im[hs1] = 1\n",
    "im.show()"
   ]
  },
  {
   "cell_type": "code",
   "execution_count": 18,
   "id": "25500d57",
   "metadata": {},
   "outputs": [
    {
     "name": "stdout",
     "output_type": "stream",
     "text": [
      "··█▉█▉█▉··\n",
      "··█▉··█▉··\n",
      "··█▉█▉█▉··\n",
      "··█▉······\n",
      "··█▉······\n"
     ]
    }
   ],
   "source": [
    "def p_shape(p1, p2):\n",
    "    w = p2[0] - p1[0] + 1\n",
    "    h = p2[1] - p1[1] + 1\n",
    "    assert(w > 2)\n",
    "    assert(h > 3)\n",
    "    c = rtee(p1, p2), hline(p1, (p2[0], p1[1])), vline((p2[0], p1[1]+1), (p2[0], p1[1] + h // 2 - 1))\n",
    "    return tuple(tuple(chain.from_iterable(a)) for a in zip(*c))\n",
    "\n",
    "p1 = p_shape((1, 0), (3, 4))\n",
    "assert(p1 == ((1, 1, 1, 1, 1, 2, 3, 1, 2, 3, 3), (0, 1, 2, 3, 4, 2, 2, 0, 0, 0, 1)))\n",
    "\n",
    "im_size = (5, 5)\n",
    "im = Image(size=im_size)\n",
    "im[p1] = 1\n",
    "im.show()"
   ]
  },
  {
   "cell_type": "code",
   "execution_count": 19,
   "id": "b9b0b582",
   "metadata": {},
   "outputs": [
    {
     "name": "stdout",
     "output_type": "stream",
     "text": [
      "\n",
      "··█▉······\n",
      "··········\n",
      "······█▉··\n",
      "··········\n",
      "··········\n"
     ]
    }
   ],
   "source": [
    "def random_dots(p1, p2):\n",
    "    w = p2[0] - p1[0] + 1\n",
    "    h = p2[1] - p1[1] + 1\n",
    "    # One or two random points that are not together\n",
    "    n = np.random.randint(1, 3)\n",
    "    i = np.random.choice(range(w*h), size=n, replace=False)\n",
    "    if n == 1:\n",
    "        xi, yi = (i % w,), (i // h,)\n",
    "    else:\n",
    "        while True:\n",
    "            x = np.zeros(w*h)\n",
    "            x[i] = 1\n",
    "            xi, yi = np.nonzero(x.reshape((w, h)))\n",
    "            # Check the points are not adjacent\n",
    "            if int(np.sqrt((xi[1] - xi[0])**2 + (yi[1] - yi[0])**2)) > 1:\n",
    "                break\n",
    "            i = np.random.choice(range(w*h), size=n, replace=False)\n",
    "\n",
    "    return (xi, yi)\n",
    "\n",
    "im_size = (5, 5)\n",
    "r1 = random_dots((0, 0), (4, 4))\n",
    "im = Image(size=im_size)\n",
    "im[r1] = 1\n",
    "print()\n",
    "im.show()"
   ]
  },
  {
   "cell_type": "code",
   "execution_count": 20,
   "id": "ef5cbfcc",
   "metadata": {},
   "outputs": [
    {
     "data": {
      "text/plain": [
       "((array([3]),), (array([0]),))"
      ]
     },
     "execution_count": 20,
     "metadata": {},
     "output_type": "execute_result"
    }
   ],
   "source": [
    "#TODO: Need a way to avoid accidentally creating shapes that\n",
    "# are recognizable.  E.g. need an oracle function.\n",
    "\n",
    "def random_invalid_image(im_size):\n",
    "    w, h = im_size\n",
    "    r = np.random.randint(1)\n",
    "    if r == 0:\n",
    "        # Random dots\n",
    "        return random_dots((0, 0), (w-1, h-1)) \n",
    "    if r == 1:\n",
    "        # Random noise of different sparsity        \n",
    "        n = np.random.randint(w*h)\n",
    "        i = np.random.choice(range(w*h), size=n, replace=False)\n",
    "        iy = np.random.choice(range(n), replace=False)\n",
    "        x = np.zeros(w*h)\n",
    "        x[i] = 1\n",
    "        return np.nonzero(x.reshape(im_size))\n",
    "    elif r == 2:\n",
    "        # Two random lines that are not connected\n",
    "        pass\n",
    "    elif r == 3:\n",
    "        # Three random lines that are not connected\n",
    "        pass\n",
    "    #c = ltee(p1, p2), vline((p1[0], p1[1] + h // 2 + 1), p2)\n",
    "    #return tuple(tuple(chain.from_iterable(a)) for a in zip(*c))\n",
    "\n",
    "random_invalid_image(im_size)"
   ]
  },
  {
   "cell_type": "markdown",
   "id": "5cc42053",
   "metadata": {},
   "source": [
    "## Generate data"
   ]
  },
  {
   "cell_type": "code",
   "execution_count": 30,
   "id": "886091cd",
   "metadata": {},
   "outputs": [],
   "source": [
    "# Object generator functions\n",
    "obj_generators = {\n",
    "    'random_dots': random_dots,\n",
    "    'hline': hline,\n",
    "    'vline': vline,\n",
    "    'cross': cross,\n",
    "    'table': table,\n",
    "    'box': box,\n",
    "    'rtee': rtee,\n",
    "    'ltee': ltee,\n",
    "    'rchair': rchair,\n",
    "    'lchair': lchair,\n",
    "    'h_shape': h_shape,\n",
    "    'p_shape': p_shape\n",
    "}"
   ]
  },
  {
   "cell_type": "code",
   "execution_count": 31,
   "id": "d50b33e1",
   "metadata": {},
   "outputs": [
    {
     "data": {
      "text/plain": [
       "12"
      ]
     },
     "execution_count": 31,
     "metadata": {},
     "output_type": "execute_result"
    }
   ],
   "source": [
    "obj_labels = ['random_dots', 'hline', 'vline', 'cross', 'table', 'box', \n",
    "              'rtee', 'ltee', 'rchair', 'lchair', 'h_shape', 'p_shape']\n",
    "n_obj_types = len(obj_types)\n",
    "n_obj_types"
   ]
  },
  {
   "cell_type": "code",
   "execution_count": 32,
   "id": "ab7ac1ab",
   "metadata": {},
   "outputs": [],
   "source": [
    "def calc_size_ranges(im_size):\n",
    "    w, h = im_size\n",
    "    return {\n",
    "        random_dots: ((w-1, w), (h-1, h)),\n",
    "        hline: ((2, w), (1, 2)),\n",
    "        vline: ((1, 2), (2, h)),\n",
    "        cross: ((3, w), (3, h)),\n",
    "        table: ((3, w), (3, h)),\n",
    "        box: ((3, w), (3, h)),\n",
    "        rtee: ((2, w), (3, h)),\n",
    "        ltee: ((2, w), (3, h)),\n",
    "        rchair: ((3, w), (3, h)),\n",
    "        lchair:  ((3, w), (3, h)),\n",
    "        h_shape: ((3, w), (3, h)),\n",
    "        p_shape:  ((3, w), (4, h))\n",
    "    }"
   ]
  },
  {
   "cell_type": "code",
   "execution_count": 34,
   "id": "4db0ee41",
   "metadata": {},
   "outputs": [
    {
     "name": "stdout",
     "output_type": "stream",
     "text": [
      "<function box at 0x7fb6c72ae9d8>\n",
      "█▉█▉█▉█▉··\n",
      "█▉····█▉··\n",
      "█▉····█▉··\n",
      "█▉····█▉··\n",
      "█▉█▉█▉█▉··\n",
      "<function p_shape at 0x7fb6c72de048>\n",
      "█▉█▉█▉█▉█▉\n",
      "█▉······█▉\n",
      "█▉█▉█▉█▉█▉\n",
      "█▉········\n",
      "█▉········\n",
      "<function ltee at 0x7fb6c72cb0d0>\n",
      "······█▉··\n",
      "······█▉··\n",
      "█▉█▉█▉█▉··\n",
      "······█▉··\n",
      "······█▉··\n",
      "<function box at 0x7fb6c72ae9d8>\n",
      "█▉█▉█▉█▉··\n",
      "█▉····█▉··\n",
      "█▉····█▉··\n",
      "█▉█▉█▉█▉··\n",
      "··········\n",
      "<function ltee at 0x7fb6c72cb0d0>\n",
      "········█▉\n",
      "········█▉\n",
      "█▉█▉█▉█▉█▉\n",
      "········█▉\n",
      "··········\n"
     ]
    }
   ],
   "source": [
    "np.random.seed(0)\n",
    "\n",
    "im_size = (5, 5)\n",
    "size_ranges = calc_size_ranges(im_size)\n",
    "data = []\n",
    "labels = []\n",
    "n_samples = 2000\n",
    "for i in range(n_samples):\n",
    "    im = Image(size=im_size)\n",
    "    obj_id = np.random.randint(n_obj_types)\n",
    "    obj_label = obj_labels[obj_id]\n",
    "    obj_f = obj_generators[obj_label]\n",
    "    w_range, h_range = size_ranges[obj_f]\n",
    "    w = np.random.randint(*w_range)\n",
    "    h = np.random.randint(*h_range)\n",
    "    p1 = (0, 0)\n",
    "    p2 = (w, h)\n",
    "    obj = obj_f(p1, p2)\n",
    "    im[obj] = 1\n",
    "    if i < 5:\n",
    "        print(obj_f)\n",
    "        im.show()\n",
    "        \n",
    "    labels.append(obj_id)\n",
    "    data.append(im.data.flatten())\n",
    "\n",
    "data = np.array(data)\n",
    "labels = np.array(labels)"
   ]
  },
  {
   "cell_type": "code",
   "execution_count": 35,
   "id": "53ab071b",
   "metadata": {},
   "outputs": [
    {
     "data": {
      "text/plain": [
       "((2000, 25), (2000,))"
      ]
     },
     "execution_count": 35,
     "metadata": {},
     "output_type": "execute_result"
    }
   ],
   "source": [
    "data.shape, labels.shape"
   ]
  },
  {
   "cell_type": "markdown",
   "id": "c29ca88c",
   "metadata": {},
   "source": [
    "## Save data to file"
   ]
  },
  {
   "cell_type": "code",
   "execution_count": 36,
   "id": "1fffe2df",
   "metadata": {},
   "outputs": [
    {
     "data": {
      "text/html": [
       "<div>\n",
       "<style scoped>\n",
       "    .dataframe tbody tr th:only-of-type {\n",
       "        vertical-align: middle;\n",
       "    }\n",
       "\n",
       "    .dataframe tbody tr th {\n",
       "        vertical-align: top;\n",
       "    }\n",
       "\n",
       "    .dataframe thead th {\n",
       "        text-align: right;\n",
       "    }\n",
       "</style>\n",
       "<table border=\"1\" class=\"dataframe\">\n",
       "  <thead>\n",
       "    <tr style=\"text-align: right;\">\n",
       "      <th></th>\n",
       "      <th>0</th>\n",
       "      <th>1</th>\n",
       "      <th>2</th>\n",
       "      <th>3</th>\n",
       "      <th>4</th>\n",
       "      <th>5</th>\n",
       "      <th>6</th>\n",
       "      <th>7</th>\n",
       "      <th>8</th>\n",
       "      <th>9</th>\n",
       "      <th>...</th>\n",
       "      <th>16</th>\n",
       "      <th>17</th>\n",
       "      <th>18</th>\n",
       "      <th>19</th>\n",
       "      <th>20</th>\n",
       "      <th>21</th>\n",
       "      <th>22</th>\n",
       "      <th>23</th>\n",
       "      <th>24</th>\n",
       "      <th>Label</th>\n",
       "    </tr>\n",
       "  </thead>\n",
       "  <tbody>\n",
       "    <tr>\n",
       "      <th>0</th>\n",
       "      <td>1</td>\n",
       "      <td>1</td>\n",
       "      <td>1</td>\n",
       "      <td>1</td>\n",
       "      <td>0</td>\n",
       "      <td>1</td>\n",
       "      <td>0</td>\n",
       "      <td>0</td>\n",
       "      <td>1</td>\n",
       "      <td>0</td>\n",
       "      <td>...</td>\n",
       "      <td>0</td>\n",
       "      <td>0</td>\n",
       "      <td>1</td>\n",
       "      <td>0</td>\n",
       "      <td>1</td>\n",
       "      <td>1</td>\n",
       "      <td>1</td>\n",
       "      <td>1</td>\n",
       "      <td>0</td>\n",
       "      <td>5</td>\n",
       "    </tr>\n",
       "    <tr>\n",
       "      <th>1</th>\n",
       "      <td>1</td>\n",
       "      <td>1</td>\n",
       "      <td>1</td>\n",
       "      <td>1</td>\n",
       "      <td>1</td>\n",
       "      <td>1</td>\n",
       "      <td>0</td>\n",
       "      <td>0</td>\n",
       "      <td>0</td>\n",
       "      <td>1</td>\n",
       "      <td>...</td>\n",
       "      <td>0</td>\n",
       "      <td>0</td>\n",
       "      <td>0</td>\n",
       "      <td>0</td>\n",
       "      <td>1</td>\n",
       "      <td>0</td>\n",
       "      <td>0</td>\n",
       "      <td>0</td>\n",
       "      <td>0</td>\n",
       "      <td>11</td>\n",
       "    </tr>\n",
       "    <tr>\n",
       "      <th>2</th>\n",
       "      <td>0</td>\n",
       "      <td>0</td>\n",
       "      <td>0</td>\n",
       "      <td>1</td>\n",
       "      <td>0</td>\n",
       "      <td>0</td>\n",
       "      <td>0</td>\n",
       "      <td>0</td>\n",
       "      <td>1</td>\n",
       "      <td>0</td>\n",
       "      <td>...</td>\n",
       "      <td>0</td>\n",
       "      <td>0</td>\n",
       "      <td>1</td>\n",
       "      <td>0</td>\n",
       "      <td>0</td>\n",
       "      <td>0</td>\n",
       "      <td>0</td>\n",
       "      <td>1</td>\n",
       "      <td>0</td>\n",
       "      <td>7</td>\n",
       "    </tr>\n",
       "    <tr>\n",
       "      <th>3</th>\n",
       "      <td>1</td>\n",
       "      <td>1</td>\n",
       "      <td>1</td>\n",
       "      <td>1</td>\n",
       "      <td>0</td>\n",
       "      <td>1</td>\n",
       "      <td>0</td>\n",
       "      <td>0</td>\n",
       "      <td>1</td>\n",
       "      <td>0</td>\n",
       "      <td>...</td>\n",
       "      <td>1</td>\n",
       "      <td>1</td>\n",
       "      <td>1</td>\n",
       "      <td>0</td>\n",
       "      <td>0</td>\n",
       "      <td>0</td>\n",
       "      <td>0</td>\n",
       "      <td>0</td>\n",
       "      <td>0</td>\n",
       "      <td>5</td>\n",
       "    </tr>\n",
       "    <tr>\n",
       "      <th>4</th>\n",
       "      <td>0</td>\n",
       "      <td>0</td>\n",
       "      <td>0</td>\n",
       "      <td>0</td>\n",
       "      <td>1</td>\n",
       "      <td>0</td>\n",
       "      <td>0</td>\n",
       "      <td>0</td>\n",
       "      <td>0</td>\n",
       "      <td>1</td>\n",
       "      <td>...</td>\n",
       "      <td>0</td>\n",
       "      <td>0</td>\n",
       "      <td>0</td>\n",
       "      <td>1</td>\n",
       "      <td>0</td>\n",
       "      <td>0</td>\n",
       "      <td>0</td>\n",
       "      <td>0</td>\n",
       "      <td>0</td>\n",
       "      <td>7</td>\n",
       "    </tr>\n",
       "  </tbody>\n",
       "</table>\n",
       "<p>5 rows × 26 columns</p>\n",
       "</div>"
      ],
      "text/plain": [
       "   0  1  2  3  4  5  6  7  8  9  ...  16  17  18  19  20  21  22  23  24  \\\n",
       "0  1  1  1  1  0  1  0  0  1  0  ...   0   0   1   0   1   1   1   1   0   \n",
       "1  1  1  1  1  1  1  0  0  0  1  ...   0   0   0   0   1   0   0   0   0   \n",
       "2  0  0  0  1  0  0  0  0  1  0  ...   0   0   1   0   0   0   0   1   0   \n",
       "3  1  1  1  1  0  1  0  0  1  0  ...   1   1   1   0   0   0   0   0   0   \n",
       "4  0  0  0  0  1  0  0  0  0  1  ...   0   0   0   1   0   0   0   0   0   \n",
       "\n",
       "   Label  \n",
       "0      5  \n",
       "1     11  \n",
       "2      7  \n",
       "3      5  \n",
       "4      7  \n",
       "\n",
       "[5 rows x 26 columns]"
      ]
     },
     "execution_count": 36,
     "metadata": {},
     "output_type": "execute_result"
    }
   ],
   "source": [
    "import os\n",
    "import pandas as pd\n",
    "\n",
    "data_dir = 'data'\n",
    "if not os.path.exists(data_dir):\n",
    "    os.mkdir(data_dir)\n",
    "\n",
    "df1 = pd.DataFrame(data)\n",
    "df2 = pd.Series(labels, name='Label')\n",
    "df = pd.concat([df1, df2], axis=1)\n",
    "df.head()"
   ]
  },
  {
   "cell_type": "code",
   "execution_count": 37,
   "id": "5268a5ec",
   "metadata": {},
   "outputs": [
    {
     "name": "stdout",
     "output_type": "stream",
     "text": [
      "Data saved to file 'obj-recog-data-2000.csv'\n"
     ]
    }
   ],
   "source": [
    "filename = f\"obj-recog-data-{n_samples}.csv\"\n",
    "df.to_csv(os.path.join(data_dir, filename))\n",
    "print(f\"Data saved to file '{filename}'\")"
   ]
  },
  {
   "cell_type": "code",
   "execution_count": null,
   "id": "8d3c02c4",
   "metadata": {},
   "outputs": [],
   "source": []
  }
 ],
 "metadata": {
  "kernelspec": {
   "display_name": "Python [conda env:torch]",
   "language": "python",
   "name": "conda-env-torch-py"
  },
  "language_info": {
   "codemirror_mode": {
    "name": "ipython",
    "version": 3
   },
   "file_extension": ".py",
   "mimetype": "text/x-python",
   "name": "python",
   "nbconvert_exporter": "python",
   "pygments_lexer": "ipython3",
   "version": "3.6.13"
  }
 },
 "nbformat": 4,
 "nbformat_minor": 5
}
