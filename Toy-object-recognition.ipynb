{
 "cells": [
  {
   "cell_type": "markdown",
   "id": "5a61ce96",
   "metadata": {},
   "source": [
    "# Toy Object Recognition"
   ]
  },
  {
   "cell_type": "code",
   "execution_count": 1,
   "id": "16478407",
   "metadata": {},
   "outputs": [],
   "source": [
    "from itertools import chain\n",
    "import numpy as np\n",
    "import matplotlib.pyplot as plt"
   ]
  },
  {
   "cell_type": "code",
   "execution_count": 2,
   "id": "95c2cf9e",
   "metadata": {},
   "outputs": [
    {
     "name": "stdout",
     "output_type": "stream",
     "text": [
      "··········\n",
      "··········\n",
      "··········\n",
      "··········\n",
      "(5, 4)\n"
     ]
    }
   ],
   "source": [
    "class Image:\n",
    "\n",
    "    display_chars = np.array([u'\\u00B7\\u00B7', u'\\u2588\\u2589'])\n",
    "\n",
    "    def __init__(self, data=None, size=None):\n",
    "        if data is None:\n",
    "            self._data = np.zeros(tuple(reversed(size)), dtype='int8')\n",
    "        else:\n",
    "            self._data = np.array(data).astype('int8')\n",
    "\n",
    "    @property\n",
    "    def size(self):\n",
    "        return tuple(reversed(self._data.shape))\n",
    "\n",
    "    @property\n",
    "    def data(self):\n",
    "        return self._data\n",
    "\n",
    "    @data.setter\n",
    "    def data(self, value):\n",
    "        self._data = np.array(value).astype('int8')\n",
    "        \n",
    "    def __getitem__(self, index):\n",
    "        return self._data[tuple(reversed(index))]\n",
    "\n",
    "    def __setitem__(self, index, value):\n",
    "        self._data[tuple(reversed(index))] = value\n",
    "\n",
    "    def show(self):\n",
    "        for i in range(self.size[1]):\n",
    "            print(''.join(c for c in self.display_chars[self.data[i, :]]))\n",
    "\n",
    "\n",
    "im_size = (5, 4)\n",
    "\n",
    "assert(Image(size=im_size).size == im_size)\n",
    "assert(np.all(Image(size=im_size).data == 0))\n",
    "\n",
    "Image(size=im_size).show()\n",
    "print(Image(size=im_size).size)"
   ]
  },
  {
   "cell_type": "code",
   "execution_count": 3,
   "id": "264f29b7",
   "metadata": {},
   "outputs": [
    {
     "name": "stdout",
     "output_type": "stream",
     "text": [
      "█▉█▉··█▉\n",
      "··█▉█▉··\n",
      "█▉█▉··█▉\n"
     ]
    },
    {
     "data": {
      "text/plain": [
       "array([[1, 1, 0, 1],\n",
       "       [0, 1, 1, 0],\n",
       "       [1, 1, 0, 1]], dtype=int8)"
      ]
     },
     "execution_count": 3,
     "metadata": {},
     "output_type": "execute_result"
    }
   ],
   "source": [
    "np.random.seed(10)\n",
    "data = np.random.randint(2, size=12).reshape(3, 4)\n",
    "im = Image(data=data)\n",
    "im.show()\n",
    "im.data"
   ]
  },
  {
   "cell_type": "code",
   "execution_count": 4,
   "id": "e8ec6988",
   "metadata": {},
   "outputs": [
    {
     "data": {
      "text/plain": [
       "1"
      ]
     },
     "execution_count": 4,
     "metadata": {},
     "output_type": "execute_result"
    }
   ],
   "source": [
    "# Note: indexing is (x, y) from top left (not row, col as for matrices)\n",
    "im[1, 1]"
   ]
  },
  {
   "cell_type": "code",
   "execution_count": 5,
   "id": "547aa0f7",
   "metadata": {},
   "outputs": [
    {
     "data": {
      "text/plain": [
       "array([0, 1, 1, 0], dtype=int8)"
      ]
     },
     "execution_count": 5,
     "metadata": {},
     "output_type": "execute_result"
    }
   ],
   "source": [
    "im[:, 1]"
   ]
  },
  {
   "cell_type": "code",
   "execution_count": 6,
   "id": "409ebfa5",
   "metadata": {},
   "outputs": [
    {
     "name": "stdout",
     "output_type": "stream",
     "text": [
      "█▉█▉█▉█▉\n",
      "··█▉█▉··\n",
      "█▉█▉█▉█▉\n"
     ]
    }
   ],
   "source": [
    "im[2, :] = 1\n",
    "im.show()"
   ]
  },
  {
   "cell_type": "code",
   "execution_count": 7,
   "id": "02d84128",
   "metadata": {},
   "outputs": [],
   "source": [
    "im_size = (5, 5)\n",
    "im = Image(size=im_size)\n",
    "#im[1:3, 1:3] = 1\n",
    "#im.show()\n"
   ]
  },
  {
   "cell_type": "code",
   "execution_count": 8,
   "id": "18d4d1db",
   "metadata": {},
   "outputs": [
    {
     "data": {
      "text/plain": [
       "((3, 3, 3, 3, 3), (0, 1, 2, 3, 4))"
      ]
     },
     "execution_count": 8,
     "metadata": {},
     "output_type": "execute_result"
    }
   ],
   "source": [
    "def hline(pt, length):\n",
    "    return (tuple(range(pt[0], pt[0] + length)), (pt[1],) * length)\n",
    "\n",
    "def vline(pt, length):\n",
    "    return ((pt[0],) * length, tuple(range(pt[1], pt[1] + length)))\n",
    "\n",
    "vline((3, 0), 5)"
   ]
  },
  {
   "cell_type": "code",
   "execution_count": 9,
   "id": "bcc8d973",
   "metadata": {},
   "outputs": [
    {
     "name": "stdout",
     "output_type": "stream",
     "text": [
      "····█▉····\n",
      "····█▉····\n",
      "█▉█▉█▉█▉█▉\n",
      "····█▉····\n",
      "····█▉····\n"
     ]
    }
   ],
   "source": [
    "assert(hline((1, 2), 1) == ((1,), (2,)))\n",
    "assert(vline((2, 1), 1) == ((2,), (1,)))\n",
    "assert(hline((0, 0), 2) == ((0, 1), (0, 0)))\n",
    "assert(vline((0, 0), 2) == ((0, 0), (0, 1)))\n",
    "\n",
    "assert(hline((0, 3), 5) == ((0, 1, 2, 3, 4), (3, 3, 3, 3, 3)))\n",
    "assert(vline((3, 0), 5) == ((3, 3, 3, 3, 3), (0, 1, 2, 3, 4)))\n",
    "\n",
    "im_size = (5, 5)\n",
    "im = Image(size=im_size)\n",
    "im[hline((0, 2), 5)] = 1\n",
    "im[vline((2, 0), 5)] = 1\n",
    "im.show()"
   ]
  },
  {
   "cell_type": "code",
   "execution_count": 10,
   "id": "94f1a212",
   "metadata": {},
   "outputs": [
    {
     "name": "stdout",
     "output_type": "stream",
     "text": [
      "··········\n",
      "····█▉····\n",
      "··█▉█▉█▉··\n",
      "····█▉····\n",
      "··········\n"
     ]
    }
   ],
   "source": [
    "def cross(p1, p2):\n",
    "    w = p2[0] - p1[0] + 1\n",
    "    h = p2[1] - p1[1] + 1\n",
    "    assert(w > 2)\n",
    "    assert(h > 2)\n",
    "    c = vline((p1[0] + w // 2, p1[1]), h), hline((p1[0], p2[1] - h // 2), w)\n",
    "    return tuple(tuple(chain.from_iterable(a)) for a in zip(*c))\n",
    "\n",
    "c1 = cross((1, 1), (3, 3))\n",
    "assert(c1 == ((2, 2, 2, 1, 2, 3), (1, 2, 3, 2, 2, 2)))\n",
    "\n",
    "im_size = (5, 5)\n",
    "im = Image(size=im_size)\n",
    "im[c1] = 1\n",
    "im.show()"
   ]
  },
  {
   "cell_type": "code",
   "execution_count": 11,
   "id": "5138344a",
   "metadata": {},
   "outputs": [
    {
     "name": "stdout",
     "output_type": "stream",
     "text": [
      "··········\n",
      "··█▉█▉█▉█▉\n",
      "··█▉····█▉\n",
      "··█▉····█▉\n",
      "··········\n"
     ]
    }
   ],
   "source": [
    "def table(p1, p2):\n",
    "    w = p2[0] - p1[0] + 1\n",
    "    h = p2[1] - p1[1] + 1\n",
    "    assert(w > 2)\n",
    "    assert(h > 1)\n",
    "    t = vline(p1, h), vline((p2[0], p2[1] - h + 1), h), hline((p1[0] + 1, p1[1]), w - 2)\n",
    "    return tuple(tuple(chain.from_iterable(a)) for a in zip(*t))\n",
    "\n",
    "t1 = table((1, 1), (4, 3))\n",
    "assert(t1 == ((1, 1, 1, 4, 4, 4, 2, 3), (1, 2, 3, 1, 2, 3, 1, 1)))\n",
    "\n",
    "im_size = (5, 5)\n",
    "im = Image(size=im_size)\n",
    "im[t1] = 1\n",
    "im.show()"
   ]
  },
  {
   "cell_type": "code",
   "execution_count": 12,
   "id": "9ed554bb",
   "metadata": {},
   "outputs": [
    {
     "name": "stdout",
     "output_type": "stream",
     "text": [
      "··█▉······\n",
      "··█▉······\n",
      "··█▉█▉█▉█▉\n",
      "··█▉······\n",
      "··█▉······\n"
     ]
    }
   ],
   "source": [
    "def rtee(p1, p2):\n",
    "    w = p2[0] - p1[0] + 1\n",
    "    h = p2[1] - p1[1] + 1\n",
    "    assert(w > 2)\n",
    "    assert(h > 2)\n",
    "    t = vline(p1, h), hline((p1[0] + 1, p1[1] + h // 2), w - 1)\n",
    "    return tuple(tuple(chain.from_iterable(a)) for a in zip(*t))\n",
    "\n",
    "rt1 = rtee((1, 0), (4, 4))\n",
    "\n",
    "im_size = (5, 5)\n",
    "im = Image(size=im_size)\n",
    "im[rt1] = 1\n",
    "im.show()"
   ]
  },
  {
   "cell_type": "code",
   "execution_count": 13,
   "id": "2ffc1f22",
   "metadata": {},
   "outputs": [
    {
     "name": "stdout",
     "output_type": "stream",
     "text": [
      "········█▉\n",
      "········█▉\n",
      "··█▉█▉█▉█▉\n",
      "········█▉\n",
      "········█▉\n"
     ]
    }
   ],
   "source": [
    "def ltee(p1, p2):\n",
    "    w = p2[0] - p1[0] + 1\n",
    "    h = p2[1] - p1[1] + 1\n",
    "    assert(w > 2)\n",
    "    assert(h > 2)\n",
    "    t = vline((p2[0], p1[1]), h), hline((p1[0], p1[1] + h // 2), w - 1)\n",
    "    return tuple(tuple(chain.from_iterable(a)) for a in zip(*t))\n",
    "\n",
    "lt1 = ltee((1, 0), (4, 4))\n",
    "\n",
    "im_size = (5, 5)\n",
    "im = Image(size=im_size)\n",
    "im[lt1] = 1\n",
    "im.show()"
   ]
  },
  {
   "cell_type": "code",
   "execution_count": 14,
   "id": "3484ad06",
   "metadata": {},
   "outputs": [
    {
     "name": "stdout",
     "output_type": "stream",
     "text": [
      "········█▉\n",
      "········█▉\n",
      "··█▉█▉█▉█▉\n",
      "··█▉····█▉\n",
      "··█▉····█▉\n"
     ]
    }
   ],
   "source": [
    "def rchair(p1, p2):\n",
    "    w = p2[0] - p1[0] + 1\n",
    "    h = p2[1] - p1[1] + 1\n",
    "    assert(w > 2)\n",
    "    assert(h > 2)\n",
    "    c = ltee(p1, p2), vline((p1[0], p1[1] + h // 2 + 1), (h - h // 2) - 1)\n",
    "    return tuple(tuple(chain.from_iterable(a)) for a in zip(*c))\n",
    "\n",
    "rc1 = rchair((1, 0), (4, 4))\n",
    "\n",
    "im_size = (5, 5)\n",
    "im = Image(size=im_size)\n",
    "im[rc1] = 1\n",
    "im.show()"
   ]
  },
  {
   "cell_type": "code",
   "execution_count": 15,
   "id": "5ea36aa3",
   "metadata": {},
   "outputs": [
    {
     "name": "stdout",
     "output_type": "stream",
     "text": [
      "··········\n",
      "█▉········\n",
      "█▉········\n",
      "█▉█▉█▉█▉··\n",
      "█▉····█▉··\n"
     ]
    }
   ],
   "source": [
    "def lchair(p1, p2):\n",
    "    w = p2[0] - p1[0] + 1\n",
    "    h = p2[1] - p1[1] + 1\n",
    "    assert(w > 2)\n",
    "    assert(h > 2)\n",
    "    c = rtee(p1, p2), vline((p2[0], p1[1] + h // 2 + 1), (h - h // 2) - 1)\n",
    "    return tuple(tuple(chain.from_iterable(a)) for a in zip(*c))\n",
    "\n",
    "lc1 = lchair((0, 1), (3, 4))\n",
    "\n",
    "im_size = (5, 5)\n",
    "im = Image(size=im_size)\n",
    "im[lc1] = 1\n",
    "im.show()"
   ]
  },
  {
   "cell_type": "code",
   "execution_count": null,
   "id": "8468c829",
   "metadata": {},
   "outputs": [],
   "source": []
  }
 ],
 "metadata": {
  "kernelspec": {
   "display_name": "Python [conda env:torch]",
   "language": "python",
   "name": "conda-env-torch-py"
  },
  "language_info": {
   "codemirror_mode": {
    "name": "ipython",
    "version": 3
   },
   "file_extension": ".py",
   "mimetype": "text/x-python",
   "name": "python",
   "nbconvert_exporter": "python",
   "pygments_lexer": "ipython3",
   "version": "3.6.13"
  }
 },
 "nbformat": 4,
 "nbformat_minor": 5
}
