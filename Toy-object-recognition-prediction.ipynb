{
 "cells": [
  {
   "cell_type": "markdown",
   "id": "49d796b0",
   "metadata": {},
   "source": [
    "# Toy Object Recognition"
   ]
  },
  {
   "cell_type": "code",
   "execution_count": 1,
   "id": "cbc04b01",
   "metadata": {},
   "outputs": [],
   "source": [
    "import os\n",
    "import numpy as np\n",
    "import pandas as pd\n",
    "import matplotlib.pyplot as plt\n",
    "\n",
    "# Class for storing and viewing images\n",
    "from images import Image"
   ]
  },
  {
   "cell_type": "markdown",
   "id": "ea3d89dd",
   "metadata": {},
   "source": [
    "## Load data"
   ]
  },
  {
   "cell_type": "code",
   "execution_count": 2,
   "id": "c4b59062",
   "metadata": {},
   "outputs": [
    {
     "data": {
      "text/plain": [
       "['obj-recog-data-2000.csv']"
      ]
     },
     "execution_count": 2,
     "metadata": {},
     "output_type": "execute_result"
    }
   ],
   "source": [
    "data_dir = 'data'\n",
    "os.listdir(data_dir)"
   ]
  },
  {
   "cell_type": "code",
   "execution_count": 3,
   "id": "2bfe0da1",
   "metadata": {},
   "outputs": [
    {
     "data": {
      "text/plain": [
       "(2000, 26)"
      ]
     },
     "execution_count": 3,
     "metadata": {},
     "output_type": "execute_result"
    }
   ],
   "source": [
    "filename = 'obj-recog-data-2000.csv'\n",
    "df = pd.read_csv(os.path.join(data_dir, filename), index_col=0)\n",
    "df.shape"
   ]
  },
  {
   "cell_type": "code",
   "execution_count": 4,
   "id": "0056a94a",
   "metadata": {},
   "outputs": [
    {
     "data": {
      "text/html": [
       "<div>\n",
       "<style scoped>\n",
       "    .dataframe tbody tr th:only-of-type {\n",
       "        vertical-align: middle;\n",
       "    }\n",
       "\n",
       "    .dataframe tbody tr th {\n",
       "        vertical-align: top;\n",
       "    }\n",
       "\n",
       "    .dataframe thead th {\n",
       "        text-align: right;\n",
       "    }\n",
       "</style>\n",
       "<table border=\"1\" class=\"dataframe\">\n",
       "  <thead>\n",
       "    <tr style=\"text-align: right;\">\n",
       "      <th></th>\n",
       "      <th>0</th>\n",
       "      <th>1</th>\n",
       "      <th>2</th>\n",
       "      <th>3</th>\n",
       "      <th>4</th>\n",
       "      <th>5</th>\n",
       "      <th>6</th>\n",
       "      <th>7</th>\n",
       "      <th>8</th>\n",
       "      <th>9</th>\n",
       "      <th>...</th>\n",
       "      <th>16</th>\n",
       "      <th>17</th>\n",
       "      <th>18</th>\n",
       "      <th>19</th>\n",
       "      <th>20</th>\n",
       "      <th>21</th>\n",
       "      <th>22</th>\n",
       "      <th>23</th>\n",
       "      <th>24</th>\n",
       "      <th>Label</th>\n",
       "    </tr>\n",
       "  </thead>\n",
       "  <tbody>\n",
       "    <tr>\n",
       "      <th>0</th>\n",
       "      <td>1</td>\n",
       "      <td>1</td>\n",
       "      <td>1</td>\n",
       "      <td>1</td>\n",
       "      <td>0</td>\n",
       "      <td>1</td>\n",
       "      <td>0</td>\n",
       "      <td>0</td>\n",
       "      <td>1</td>\n",
       "      <td>0</td>\n",
       "      <td>...</td>\n",
       "      <td>0</td>\n",
       "      <td>0</td>\n",
       "      <td>1</td>\n",
       "      <td>0</td>\n",
       "      <td>1</td>\n",
       "      <td>1</td>\n",
       "      <td>1</td>\n",
       "      <td>1</td>\n",
       "      <td>0</td>\n",
       "      <td>5</td>\n",
       "    </tr>\n",
       "    <tr>\n",
       "      <th>1</th>\n",
       "      <td>1</td>\n",
       "      <td>1</td>\n",
       "      <td>1</td>\n",
       "      <td>1</td>\n",
       "      <td>1</td>\n",
       "      <td>1</td>\n",
       "      <td>0</td>\n",
       "      <td>0</td>\n",
       "      <td>0</td>\n",
       "      <td>1</td>\n",
       "      <td>...</td>\n",
       "      <td>0</td>\n",
       "      <td>0</td>\n",
       "      <td>0</td>\n",
       "      <td>0</td>\n",
       "      <td>1</td>\n",
       "      <td>0</td>\n",
       "      <td>0</td>\n",
       "      <td>0</td>\n",
       "      <td>0</td>\n",
       "      <td>11</td>\n",
       "    </tr>\n",
       "    <tr>\n",
       "      <th>2</th>\n",
       "      <td>0</td>\n",
       "      <td>0</td>\n",
       "      <td>0</td>\n",
       "      <td>1</td>\n",
       "      <td>0</td>\n",
       "      <td>0</td>\n",
       "      <td>0</td>\n",
       "      <td>0</td>\n",
       "      <td>1</td>\n",
       "      <td>0</td>\n",
       "      <td>...</td>\n",
       "      <td>0</td>\n",
       "      <td>0</td>\n",
       "      <td>1</td>\n",
       "      <td>0</td>\n",
       "      <td>0</td>\n",
       "      <td>0</td>\n",
       "      <td>0</td>\n",
       "      <td>1</td>\n",
       "      <td>0</td>\n",
       "      <td>7</td>\n",
       "    </tr>\n",
       "    <tr>\n",
       "      <th>3</th>\n",
       "      <td>1</td>\n",
       "      <td>1</td>\n",
       "      <td>1</td>\n",
       "      <td>1</td>\n",
       "      <td>0</td>\n",
       "      <td>1</td>\n",
       "      <td>0</td>\n",
       "      <td>0</td>\n",
       "      <td>1</td>\n",
       "      <td>0</td>\n",
       "      <td>...</td>\n",
       "      <td>1</td>\n",
       "      <td>1</td>\n",
       "      <td>1</td>\n",
       "      <td>0</td>\n",
       "      <td>0</td>\n",
       "      <td>0</td>\n",
       "      <td>0</td>\n",
       "      <td>0</td>\n",
       "      <td>0</td>\n",
       "      <td>5</td>\n",
       "    </tr>\n",
       "    <tr>\n",
       "      <th>4</th>\n",
       "      <td>0</td>\n",
       "      <td>0</td>\n",
       "      <td>0</td>\n",
       "      <td>0</td>\n",
       "      <td>1</td>\n",
       "      <td>0</td>\n",
       "      <td>0</td>\n",
       "      <td>0</td>\n",
       "      <td>0</td>\n",
       "      <td>1</td>\n",
       "      <td>...</td>\n",
       "      <td>0</td>\n",
       "      <td>0</td>\n",
       "      <td>0</td>\n",
       "      <td>1</td>\n",
       "      <td>0</td>\n",
       "      <td>0</td>\n",
       "      <td>0</td>\n",
       "      <td>0</td>\n",
       "      <td>0</td>\n",
       "      <td>7</td>\n",
       "    </tr>\n",
       "  </tbody>\n",
       "</table>\n",
       "<p>5 rows × 26 columns</p>\n",
       "</div>"
      ],
      "text/plain": [
       "   0  1  2  3  4  5  6  7  8  9  ...  16  17  18  19  20  21  22  23  24  \\\n",
       "0  1  1  1  1  0  1  0  0  1  0  ...   0   0   1   0   1   1   1   1   0   \n",
       "1  1  1  1  1  1  1  0  0  0  1  ...   0   0   0   0   1   0   0   0   0   \n",
       "2  0  0  0  1  0  0  0  0  1  0  ...   0   0   1   0   0   0   0   1   0   \n",
       "3  1  1  1  1  0  1  0  0  1  0  ...   1   1   1   0   0   0   0   0   0   \n",
       "4  0  0  0  0  1  0  0  0  0  1  ...   0   0   0   1   0   0   0   0   0   \n",
       "\n",
       "   Label  \n",
       "0      5  \n",
       "1     11  \n",
       "2      7  \n",
       "3      5  \n",
       "4      7  \n",
       "\n",
       "[5 rows x 26 columns]"
      ]
     },
     "execution_count": 4,
     "metadata": {},
     "output_type": "execute_result"
    }
   ],
   "source": [
    "df.head()"
   ]
  },
  {
   "cell_type": "markdown",
   "id": "a661ee81",
   "metadata": {},
   "source": [
    "## Display data samples"
   ]
  },
  {
   "cell_type": "code",
   "execution_count": 5,
   "id": "37496edd",
   "metadata": {},
   "outputs": [
    {
     "data": {
      "text/plain": [
       "((25,), 5)"
      ]
     },
     "execution_count": 5,
     "metadata": {},
     "output_type": "execute_result"
    }
   ],
   "source": [
    "i = 0\n",
    "sample = df.loc[i]\n",
    "x = sample['0':'24'].values\n",
    "label = sample['Label']\n",
    "x.shape, label"
   ]
  },
  {
   "cell_type": "code",
   "execution_count": 6,
   "id": "0896fcc1",
   "metadata": {},
   "outputs": [
    {
     "name": "stdout",
     "output_type": "stream",
     "text": [
      "█▉█▉█▉█▉··\n",
      "█▉····█▉··\n",
      "█▉····█▉··\n",
      "█▉····█▉··\n",
      "█▉█▉█▉█▉··\n"
     ]
    }
   ],
   "source": [
    "im_size = (5, 5)\n",
    "\n",
    "im = Image(data=x.reshape(im_size))\n",
    "\n",
    "assert(im.size == im_size)\n",
    "im.show()"
   ]
  },
  {
   "cell_type": "code",
   "execution_count": 7,
   "id": "42faa26f",
   "metadata": {},
   "outputs": [
    {
     "data": {
      "text/plain": [
       "0     168\n",
       "1     172\n",
       "2     171\n",
       "3     179\n",
       "4     155\n",
       "5     156\n",
       "6     149\n",
       "7     172\n",
       "8     165\n",
       "9     173\n",
       "10    153\n",
       "11    187\n",
       "Name: Label, dtype: int64"
      ]
     },
     "execution_count": 7,
     "metadata": {},
     "output_type": "execute_result"
    }
   ],
   "source": [
    "df.Label.value_counts().sort_index()"
   ]
  },
  {
   "cell_type": "markdown",
   "id": "e1940a34",
   "metadata": {},
   "source": [
    "## Train model"
   ]
  },
  {
   "cell_type": "code",
   "execution_count": 8,
   "id": "a42a08ef",
   "metadata": {},
   "outputs": [],
   "source": [
    "from sklearn import datasets, svm, metrics\n",
    "from sklearn.neural_network import MLPClassifier\n",
    "from sklearn.model_selection import train_test_split\n"
   ]
  },
  {
   "cell_type": "code",
   "execution_count": 9,
   "id": "96172cfb",
   "metadata": {},
   "outputs": [],
   "source": [
    "# flatten the images\n",
    "n_samples = len(df)\n",
    "data = df.loc[:, '0':'24']\n",
    "labels = df.loc[:, 'Label']\n",
    "\n",
    "# Create a classifier: a support vector classifier\n",
    "#clf = svm.SVC(gamma=0.001)\n",
    "\n",
    "# Create a neural network\n",
    "clf = MLPClassifier()\n",
    "\n",
    "# Split data into 50% train and 50% test subsets\n",
    "X_train, X_test, y_train, y_test = train_test_split(\n",
    "    data, labels, test_size=0.25, shuffle=False)\n",
    "\n",
    "# Learn the digits on the train subset\n",
    "clf.fit(X_train, y_train)\n",
    "\n",
    "# Predict the value of the digit on the test subset\n",
    "predicted = clf.predict(X_test)"
   ]
  },
  {
   "cell_type": "code",
   "execution_count": 10,
   "id": "e7fcdfca",
   "metadata": {},
   "outputs": [
    {
     "data": {
      "text/plain": [
       "((500, 25), (500,))"
      ]
     },
     "execution_count": 10,
     "metadata": {},
     "output_type": "execute_result"
    }
   ],
   "source": [
    "X_test.shape, y_test.shape"
   ]
  },
  {
   "cell_type": "code",
   "execution_count": 11,
   "id": "e185c9a5",
   "metadata": {},
   "outputs": [
    {
     "name": "stdout",
     "output_type": "stream",
     "text": [
      "······█▉··\n",
      "······█▉··\n",
      "█▉█▉█▉█▉··\n",
      "█▉····█▉··\n",
      "█▉····█▉··\n",
      "lchair\n",
      "\n",
      "········█▉\n",
      "········█▉\n",
      "█▉█▉█▉█▉█▉\n",
      "█▉······█▉\n",
      "█▉······█▉\n",
      "lchair\n",
      "\n",
      "··········\n",
      "··········\n",
      "······█▉··\n",
      "█▉········\n",
      "··········\n",
      "random_dots\n",
      "\n",
      "█▉█▉█▉█▉█▉\n",
      "··········\n",
      "··········\n",
      "··········\n",
      "··········\n",
      "hline\n",
      "\n",
      "█▉········\n",
      "█▉········\n",
      "█▉█▉█▉█▉█▉\n",
      "█▉······█▉\n",
      "··········\n",
      "rchair\n",
      "\n",
      "······█▉··\n",
      "······█▉··\n",
      "█▉█▉█▉█▉··\n",
      "······█▉··\n",
      "······█▉··\n",
      "ltee\n",
      "\n",
      "█▉█▉█▉█▉··\n",
      "█▉····█▉··\n",
      "█▉····█▉··\n",
      "█▉█▉█▉█▉··\n",
      "··········\n",
      "box\n",
      "\n",
      "█▉········\n",
      "█▉········\n",
      "█▉█▉█▉█▉█▉\n",
      "█▉······█▉\n",
      "█▉······█▉\n",
      "rchair\n",
      "\n",
      "█▉········\n",
      "█▉········\n",
      "█▉█▉█▉█▉█▉\n",
      "█▉········\n",
      "··········\n",
      "rtee\n",
      "\n",
      "··········\n",
      "········█▉\n",
      "··········\n",
      "··········\n",
      "··········\n",
      "random_dots\n",
      "\n"
     ]
    }
   ],
   "source": [
    "## Check predictions\n",
    "\n",
    "obj_labels = ['random_dots', 'hline', 'vline', 'cross', 'table', 'box', \n",
    "              'rtee', 'ltee', 'rchair', 'lchair', 'h_shape', 'p_shape']\n",
    "\n",
    "for i in range(10):\n",
    "    sample = X_test.iloc[i]\n",
    "    x = sample.loc['0':'24'].values\n",
    "    label = y_test.iloc[i]\n",
    "\n",
    "    im = Image(data=x.reshape(im_size))\n",
    "    im.show()\n",
    "\n",
    "    print(f\"{obj_labels[predicted[i]]:s}\\n\")"
   ]
  },
  {
   "cell_type": "code",
   "execution_count": 12,
   "id": "7b1b2caa",
   "metadata": {},
   "outputs": [
    {
     "name": "stdout",
     "output_type": "stream",
     "text": [
      "Classification report for classifier MLPClassifier():\n",
      "              precision    recall  f1-score   support\n",
      "\n",
      "           0       1.00      1.00      1.00        48\n",
      "           1       1.00      1.00      1.00        34\n",
      "           2       1.00      1.00      1.00        46\n",
      "           3       1.00      1.00      1.00        44\n",
      "           4       1.00      1.00      1.00        33\n",
      "           5       1.00      1.00      1.00        40\n",
      "           6       1.00      1.00      1.00        39\n",
      "           7       1.00      1.00      1.00        41\n",
      "           8       1.00      1.00      1.00        33\n",
      "           9       1.00      1.00      1.00        55\n",
      "          10       1.00      1.00      1.00        39\n",
      "          11       1.00      1.00      1.00        48\n",
      "\n",
      "    accuracy                           1.00       500\n",
      "   macro avg       1.00      1.00      1.00       500\n",
      "weighted avg       1.00      1.00      1.00       500\n",
      "\n",
      "\n"
     ]
    }
   ],
   "source": [
    "print(f\"Classification report for classifier {clf}:\\n\"\n",
    "      f\"{metrics.classification_report(y_test, predicted)}\\n\")"
   ]
  },
  {
   "cell_type": "code",
   "execution_count": 13,
   "id": "109b7e43",
   "metadata": {},
   "outputs": [
    {
     "data": {
      "text/plain": [
       "{'activation': 'relu',\n",
       " 'alpha': 0.0001,\n",
       " 'batch_size': 'auto',\n",
       " 'beta_1': 0.9,\n",
       " 'beta_2': 0.999,\n",
       " 'early_stopping': False,\n",
       " 'epsilon': 1e-08,\n",
       " 'hidden_layer_sizes': (100,),\n",
       " 'learning_rate': 'constant',\n",
       " 'learning_rate_init': 0.001,\n",
       " 'max_fun': 15000,\n",
       " 'max_iter': 200,\n",
       " 'momentum': 0.9,\n",
       " 'n_iter_no_change': 10,\n",
       " 'nesterovs_momentum': True,\n",
       " 'power_t': 0.5,\n",
       " 'random_state': None,\n",
       " 'shuffle': True,\n",
       " 'solver': 'adam',\n",
       " 'tol': 0.0001,\n",
       " 'validation_fraction': 0.1,\n",
       " 'verbose': False,\n",
       " 'warm_start': False}"
      ]
     },
     "execution_count": 13,
     "metadata": {},
     "output_type": "execute_result"
    }
   ],
   "source": [
    "clf.get_params()"
   ]
  },
  {
   "cell_type": "code",
   "execution_count": null,
   "id": "771ad45a",
   "metadata": {},
   "outputs": [],
   "source": []
  }
 ],
 "metadata": {
  "kernelspec": {
   "display_name": "Python [conda env:torch]",
   "language": "python",
   "name": "conda-env-torch-py"
  },
  "language_info": {
   "codemirror_mode": {
    "name": "ipython",
    "version": 3
   },
   "file_extension": ".py",
   "mimetype": "text/x-python",
   "name": "python",
   "nbconvert_exporter": "python",
   "pygments_lexer": "ipython3",
   "version": "3.6.13"
  }
 },
 "nbformat": 4,
 "nbformat_minor": 5
}
